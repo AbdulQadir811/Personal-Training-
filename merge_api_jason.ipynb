{
 "cells": [
  {
   "cell_type": "code",
   "execution_count": 1,
   "metadata": {},
   "outputs": [
    {
     "name": "stderr",
     "output_type": "stream",
     "text": [
      "\n",
      "\n",
      "====== WebDriver manager ======\n",
      "Current google-chrome version is 91.0.4472\n",
      "Get LATEST chromedriver version for 91.0.4472 google-chrome\n",
      "Driver [/home/abdulqadir/.wdm/drivers/chromedriver/linux64/91.0.4472.101/chromedriver] found in cache\n",
      "/home/abdulqadir/anaconda3/lib/python3.7/site-packages/ipykernel_launcher.py:5: DeprecationWarning: executable_path has been deprecated, please pass in a Service object\n",
      "  \"\"\"\n"
     ]
    }
   ],
   "source": [
    "from bs4 import BeautifulSoup\n",
    "import json\n",
    "from selenium import webdriver\n",
    "from webdriver_manager.chrome import ChromeDriverManager\n",
    "driver = webdriver.Chrome(ChromeDriverManager().install())"
   ]
  },
  {
   "cell_type": "code",
   "execution_count": 2,
   "metadata": {},
   "outputs": [],
   "source": [
    "def fetch_api_result():\n",
    "    resulted_json = {}\n",
    "    skip = 0\n",
    "    iteration = 0\n",
    "    try:\n",
    "        while(True):\n",
    "            url= \"https://api-mainnet.magiceden.io/rpc/getGlobalActivitiesByQuery?q={%22$match%22:{%22collection_symbol%22:%22cyberwave2d%22},%22$sort%22:{%22blockTime%22:1,%22createdAt%22:1},%22$skip%22:\"+str(skip)+\"}\"\n",
    "            skip += 500\n",
    "            print(driver.current_url)\n",
    "            driver.get(url)\n",
    "            y = (driver.find_element_by_xpath(\".//pre\").text)\n",
    "            if y.split('\"results\":[')[1] == \"]}\":\n",
    "                print(\"break it\")\n",
    "                break\n",
    "            print(iteration)\n",
    "            iteration +=1\n",
    "            webpage_jason = json.loads(driver.find_element_by_xpath(\".//pre\").text)\n",
    "            resulted_json = {**resulted_json, **resulted_json}    \n",
    "    except Exception as e:\n",
    "        print(\"[!]] \",e)\n",
    "    try:\n",
    "        with open(\"sample112.txt\", \"w\") as outfile:\n",
    "            json.dump(resulted_json, outfile)\n",
    "            print(\"Jason merged successfully :) \")\n",
    "    except Exception as e:\n",
    "        print(\"[!] \",e)     \n",
    "\n",
    "    "
   ]
  },
  {
   "cell_type": "code",
   "execution_count": 3,
   "metadata": {},
   "outputs": [
    {
     "name": "stdout",
     "output_type": "stream",
     "text": [
      "data:,\n"
     ]
    },
    {
     "name": "stderr",
     "output_type": "stream",
     "text": [
      "/home/abdulqadir/anaconda3/lib/python3.7/site-packages/ipykernel_launcher.py:11: DeprecationWarning: find_element_by_xpath is deprecated. Please use find_element(by=By.XPATH, value=xpath) instead\n",
      "  # This is added back by InteractiveShellApp.init_path()\n",
      "/home/abdulqadir/anaconda3/lib/python3.7/site-packages/ipykernel_launcher.py:17: DeprecationWarning: find_element_by_xpath is deprecated. Please use find_element(by=By.XPATH, value=xpath) instead\n"
     ]
    },
    {
     "name": "stdout",
     "output_type": "stream",
     "text": [
      "0\n",
      "https://api-mainnet.magiceden.io/rpc/getGlobalActivitiesByQuery?q={%22$match%22:{%22collection_symbol%22:%22cyberwave2d%22},%22$sort%22:{%22blockTime%22:1,%22createdAt%22:1},%22$skip%22:0}\n",
      "1\n",
      "https://api-mainnet.magiceden.io/rpc/getGlobalActivitiesByQuery?q={%22$match%22:{%22collection_symbol%22:%22cyberwave2d%22},%22$sort%22:{%22blockTime%22:1,%22createdAt%22:1},%22$skip%22:500}\n",
      "2\n",
      "https://api-mainnet.magiceden.io/rpc/getGlobalActivitiesByQuery?q={%22$match%22:{%22collection_symbol%22:%22cyberwave2d%22},%22$sort%22:{%22blockTime%22:1,%22createdAt%22:1},%22$skip%22:1000}\n",
      "break it\n",
      "Jason merged successfully :) \n"
     ]
    }
   ],
   "source": [
    "fetch_api_result()"
   ]
  }
 ],
 "metadata": {
  "kernelspec": {
   "display_name": "Python 3",
   "language": "python",
   "name": "python3"
  },
  "language_info": {
   "codemirror_mode": {
    "name": "ipython",
    "version": 3
   },
   "file_extension": ".py",
   "mimetype": "text/x-python",
   "name": "python",
   "nbconvert_exporter": "python",
   "pygments_lexer": "ipython3",
   "version": "3.7.3"
  }
 },
 "nbformat": 4,
 "nbformat_minor": 2
}
